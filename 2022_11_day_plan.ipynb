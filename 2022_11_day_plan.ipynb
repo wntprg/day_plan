{
 "cells": [
  {
   "cell_type": "code",
   "execution_count": null,
   "metadata": {},
   "outputs": [],
   "source": [
    "'''\n",
    "# 2022_11_01\n",
    "\n",
    "    # 2022_11_01_first\n",
    "        # 06:00 ~ 12:00\n",
    "            06:00 ~ 08:00 - zzZ\n",
    "            08:00 ~ 10:00 - Linear_lecture_H\n",
    "            19:00 ~ 12:00 - Neural_Network_lecture_H\n",
    "            \n",
    "\n",
    "    # 2022_11_01_second\n",
    "        # 12:00 ~ 18:00\n",
    "            12:00 ~ 13:00 - lunch\n",
    "            13:00 ~ 18:00 - coding_neural_network\n",
    "\n",
    "    # 2022_11_01_third\n",
    "        # 18:00 ~ 24:00\n",
    "            18:00 ~ 24:00 - honina_date\n",
    "          \n",
    "    # 2022_11_01_fourth\n",
    "        # 24:00 ~ 06:00\n",
    "            24:00 ~ 06:00 - zzZ\n",
    "            \n",
    "    # do_list\n",
    "        - Graduate_school_search\n",
    "        - english_plan\n",
    "        - ansys_and_pneumatic_study\n",
    "        - tire_wear_predict_human_NN_study\n",
    "        - support_vector_regresstion_learning\n",
    "        - multiple_layer_perceptron_learning\n",
    "        - Back_propagation_learning\n",
    "        - smart_phone_modeling\n",
    "        - LOS_download\n",
    "        - webot_e_puch_study\n",
    "        - find_adapter_research_room\n",
    "        - 3D_modeling_case_top_and_bottom\n",
    "        - wireless_len_get\n",
    "        - 각 교수님들께 말씀드리기\n",
    "        - 나현이한테 말하기 (회식, 400일, 금요일, 입원 날짜, MRI)\n",
    "        - 최적설계 강의듣기\n",
    "        - ROS 어떻게 하는 지 공부하기\n",
    "        - 인공신경망 강의 듣기 (혁펜하임)\n",
    "        - 선형대수 강의 듣기 (혁펜하임)\n",
    "        - kakaotalk_profile_change\n",
    "\n",
    "\n",
    "'''"
   ]
  }
 ],
 "metadata": {
  "kernelspec": {
   "display_name": "Python 3.8.8 64-bit",
   "language": "python",
   "name": "python3"
  },
  "language_info": {
   "name": "python",
   "version": "3.8.8"
  },
  "orig_nbformat": 4,
  "vscode": {
   "interpreter": {
    "hash": "a50b6fefcac2662aaf97940c14700b01590ebb011a6a2eddbdf90de1f3115003"
   }
  }
 },
 "nbformat": 4,
 "nbformat_minor": 2
}
